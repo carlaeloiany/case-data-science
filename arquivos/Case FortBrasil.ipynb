{
 "cells": [
  {
   "cell_type": "markdown",
   "id": "c658205b",
   "metadata": {},
   "source": [
    "#Importando as bibliotecas necessárias"
   ]
  },
  {
   "cell_type": "code",
   "execution_count": 1,
   "id": "7cc2ff45",
   "metadata": {},
   "outputs": [],
   "source": [
    "import numpy as np\n",
    "import pandas as pd\n",
    "import matplotlib as plot"
   ]
  },
  {
   "cell_type": "markdown",
   "id": "5b5e70df",
   "metadata": {},
   "source": [
    "Importando o banco de dados"
   ]
  },
  {
   "cell_type": "code",
   "execution_count": 4,
   "id": "209e8d3e",
   "metadata": {},
   "outputs": [],
   "source": [
    "df = pd.read_csv(\"Questão 1 - Base.txt \", delim_whitespace = True)"
   ]
  },
  {
   "cell_type": "code",
   "execution_count": 5,
   "id": "be287cda",
   "metadata": {},
   "outputs": [
    {
     "data": {
      "text/html": [
       "<div>\n",
       "<style scoped>\n",
       "    .dataframe tbody tr th:only-of-type {\n",
       "        vertical-align: middle;\n",
       "    }\n",
       "\n",
       "    .dataframe tbody tr th {\n",
       "        vertical-align: top;\n",
       "    }\n",
       "\n",
       "    .dataframe thead th {\n",
       "        text-align: right;\n",
       "    }\n",
       "</style>\n",
       "<table border=\"1\" class=\"dataframe\">\n",
       "  <thead>\n",
       "    <tr style=\"text-align: right;\">\n",
       "      <th></th>\n",
       "      <th>ID_CONTA</th>\n",
       "      <th>DT_VENCIMENTO</th>\n",
       "      <th>DS_ROLAGEM</th>\n",
       "      <th>VL_FATURA</th>\n",
       "    </tr>\n",
       "  </thead>\n",
       "  <tbody>\n",
       "    <tr>\n",
       "      <th>0</th>\n",
       "      <td>402467</td>\n",
       "      <td>2019-01-01</td>\n",
       "      <td>FX0</td>\n",
       "      <td>210.00</td>\n",
       "    </tr>\n",
       "    <tr>\n",
       "      <th>1</th>\n",
       "      <td>403001</td>\n",
       "      <td>2019-01-01</td>\n",
       "      <td>FX1</td>\n",
       "      <td>1097.18</td>\n",
       "    </tr>\n",
       "    <tr>\n",
       "      <th>2</th>\n",
       "      <td>403499</td>\n",
       "      <td>2019-01-01</td>\n",
       "      <td>FX0</td>\n",
       "      <td>1209.88</td>\n",
       "    </tr>\n",
       "    <tr>\n",
       "      <th>3</th>\n",
       "      <td>403670</td>\n",
       "      <td>2019-01-01</td>\n",
       "      <td>FX0</td>\n",
       "      <td>667.40</td>\n",
       "    </tr>\n",
       "    <tr>\n",
       "      <th>4</th>\n",
       "      <td>404183</td>\n",
       "      <td>2019-01-01</td>\n",
       "      <td>FX1</td>\n",
       "      <td>1239.52</td>\n",
       "    </tr>\n",
       "  </tbody>\n",
       "</table>\n",
       "</div>"
      ],
      "text/plain": [
       "   ID_CONTA DT_VENCIMENTO DS_ROLAGEM  VL_FATURA\n",
       "0    402467    2019-01-01        FX0     210.00\n",
       "1    403001    2019-01-01        FX1    1097.18\n",
       "2    403499    2019-01-01        FX0    1209.88\n",
       "3    403670    2019-01-01        FX0     667.40\n",
       "4    404183    2019-01-01        FX1    1239.52"
      ]
     },
     "execution_count": 5,
     "metadata": {},
     "output_type": "execute_result"
    }
   ],
   "source": [
    "df.head()"
   ]
  },
  {
   "cell_type": "code",
   "execution_count": 7,
   "id": "8362cf8c",
   "metadata": {},
   "outputs": [
    {
     "name": "stdout",
     "output_type": "stream",
     "text": [
      "<class 'pandas.core.frame.DataFrame'>\n",
      "RangeIndex: 2728249 entries, 0 to 2728248\n",
      "Data columns (total 4 columns):\n",
      " #   Column         Dtype  \n",
      "---  ------         -----  \n",
      " 0   ID_CONTA       int64  \n",
      " 1   DT_VENCIMENTO  object \n",
      " 2   DS_ROLAGEM     object \n",
      " 3   VL_FATURA      float64\n",
      "dtypes: float64(1), int64(1), object(2)\n",
      "memory usage: 83.3+ MB\n"
     ]
    }
   ],
   "source": [
    "df.info()"
   ]
  },
  {
   "cell_type": "code",
   "execution_count": 8,
   "id": "e4456af4",
   "metadata": {},
   "outputs": [
    {
     "data": {
      "text/html": [
       "<div>\n",
       "<style scoped>\n",
       "    .dataframe tbody tr th:only-of-type {\n",
       "        vertical-align: middle;\n",
       "    }\n",
       "\n",
       "    .dataframe tbody tr th {\n",
       "        vertical-align: top;\n",
       "    }\n",
       "\n",
       "    .dataframe thead th {\n",
       "        text-align: right;\n",
       "    }\n",
       "</style>\n",
       "<table border=\"1\" class=\"dataframe\">\n",
       "  <thead>\n",
       "    <tr style=\"text-align: right;\">\n",
       "      <th></th>\n",
       "      <th>ID_CONTA</th>\n",
       "      <th>VL_FATURA</th>\n",
       "    </tr>\n",
       "  </thead>\n",
       "  <tbody>\n",
       "    <tr>\n",
       "      <th>count</th>\n",
       "      <td>2.728249e+06</td>\n",
       "      <td>2.728249e+06</td>\n",
       "    </tr>\n",
       "    <tr>\n",
       "      <th>mean</th>\n",
       "      <td>1.263072e+06</td>\n",
       "      <td>5.043950e+02</td>\n",
       "    </tr>\n",
       "    <tr>\n",
       "      <th>std</th>\n",
       "      <td>3.695060e+05</td>\n",
       "      <td>5.166548e+02</td>\n",
       "    </tr>\n",
       "    <tr>\n",
       "      <th>min</th>\n",
       "      <td>2.763700e+04</td>\n",
       "      <td>3.000000e+01</td>\n",
       "    </tr>\n",
       "    <tr>\n",
       "      <th>25%</th>\n",
       "      <td>1.040601e+06</td>\n",
       "      <td>1.747500e+02</td>\n",
       "    </tr>\n",
       "    <tr>\n",
       "      <th>50%</th>\n",
       "      <td>1.375717e+06</td>\n",
       "      <td>3.541100e+02</td>\n",
       "    </tr>\n",
       "    <tr>\n",
       "      <th>75%</th>\n",
       "      <td>1.562847e+06</td>\n",
       "      <td>6.506900e+02</td>\n",
       "    </tr>\n",
       "    <tr>\n",
       "      <th>max</th>\n",
       "      <td>1.752194e+06</td>\n",
       "      <td>2.264748e+04</td>\n",
       "    </tr>\n",
       "  </tbody>\n",
       "</table>\n",
       "</div>"
      ],
      "text/plain": [
       "           ID_CONTA     VL_FATURA\n",
       "count  2.728249e+06  2.728249e+06\n",
       "mean   1.263072e+06  5.043950e+02\n",
       "std    3.695060e+05  5.166548e+02\n",
       "min    2.763700e+04  3.000000e+01\n",
       "25%    1.040601e+06  1.747500e+02\n",
       "50%    1.375717e+06  3.541100e+02\n",
       "75%    1.562847e+06  6.506900e+02\n",
       "max    1.752194e+06  2.264748e+04"
      ]
     },
     "execution_count": 8,
     "metadata": {},
     "output_type": "execute_result"
    }
   ],
   "source": [
    "df.describe()"
   ]
  },
  {
   "cell_type": "code",
   "execution_count": 9,
   "id": "d3f6a735",
   "metadata": {},
   "outputs": [
    {
     "data": {
      "text/html": [
       "<div>\n",
       "<style scoped>\n",
       "    .dataframe tbody tr th:only-of-type {\n",
       "        vertical-align: middle;\n",
       "    }\n",
       "\n",
       "    .dataframe tbody tr th {\n",
       "        vertical-align: top;\n",
       "    }\n",
       "\n",
       "    .dataframe thead th {\n",
       "        text-align: right;\n",
       "    }\n",
       "</style>\n",
       "<table border=\"1\" class=\"dataframe\">\n",
       "  <thead>\n",
       "    <tr style=\"text-align: right;\">\n",
       "      <th></th>\n",
       "      <th>DT_VENCIMENTO</th>\n",
       "      <th>DS_ROLAGEM</th>\n",
       "    </tr>\n",
       "  </thead>\n",
       "  <tbody>\n",
       "    <tr>\n",
       "      <th>count</th>\n",
       "      <td>2728249</td>\n",
       "      <td>2728249</td>\n",
       "    </tr>\n",
       "    <tr>\n",
       "      <th>unique</th>\n",
       "      <td>97</td>\n",
       "      <td>2</td>\n",
       "    </tr>\n",
       "    <tr>\n",
       "      <th>top</th>\n",
       "      <td>2019-01-10</td>\n",
       "      <td>FX0</td>\n",
       "    </tr>\n",
       "    <tr>\n",
       "      <th>freq</th>\n",
       "      <td>55900</td>\n",
       "      <td>2481796</td>\n",
       "    </tr>\n",
       "  </tbody>\n",
       "</table>\n",
       "</div>"
      ],
      "text/plain": [
       "       DT_VENCIMENTO DS_ROLAGEM\n",
       "count        2728249    2728249\n",
       "unique            97          2\n",
       "top       2019-01-10        FX0\n",
       "freq           55900    2481796"
      ]
     },
     "execution_count": 9,
     "metadata": {},
     "output_type": "execute_result"
    }
   ],
   "source": [
    "df.describe(include='O')"
   ]
  },
  {
   "cell_type": "code",
   "execution_count": 10,
   "id": "2f131f7b",
   "metadata": {},
   "outputs": [],
   "source": [
    "df = pd.get_dummies(df,columns=['DS_ROLAGEM'],drop_first=True)"
   ]
  },
  {
   "cell_type": "code",
   "execution_count": 11,
   "id": "10c29979",
   "metadata": {},
   "outputs": [
    {
     "data": {
      "text/html": [
       "<div>\n",
       "<style scoped>\n",
       "    .dataframe tbody tr th:only-of-type {\n",
       "        vertical-align: middle;\n",
       "    }\n",
       "\n",
       "    .dataframe tbody tr th {\n",
       "        vertical-align: top;\n",
       "    }\n",
       "\n",
       "    .dataframe thead th {\n",
       "        text-align: right;\n",
       "    }\n",
       "</style>\n",
       "<table border=\"1\" class=\"dataframe\">\n",
       "  <thead>\n",
       "    <tr style=\"text-align: right;\">\n",
       "      <th></th>\n",
       "      <th>ID_CONTA</th>\n",
       "      <th>DT_VENCIMENTO</th>\n",
       "      <th>VL_FATURA</th>\n",
       "      <th>DS_ROLAGEM_FX1</th>\n",
       "    </tr>\n",
       "  </thead>\n",
       "  <tbody>\n",
       "    <tr>\n",
       "      <th>0</th>\n",
       "      <td>402467</td>\n",
       "      <td>2019-01-01</td>\n",
       "      <td>210.00</td>\n",
       "      <td>0</td>\n",
       "    </tr>\n",
       "    <tr>\n",
       "      <th>1</th>\n",
       "      <td>403001</td>\n",
       "      <td>2019-01-01</td>\n",
       "      <td>1097.18</td>\n",
       "      <td>1</td>\n",
       "    </tr>\n",
       "    <tr>\n",
       "      <th>2</th>\n",
       "      <td>403499</td>\n",
       "      <td>2019-01-01</td>\n",
       "      <td>1209.88</td>\n",
       "      <td>0</td>\n",
       "    </tr>\n",
       "    <tr>\n",
       "      <th>3</th>\n",
       "      <td>403670</td>\n",
       "      <td>2019-01-01</td>\n",
       "      <td>667.40</td>\n",
       "      <td>0</td>\n",
       "    </tr>\n",
       "    <tr>\n",
       "      <th>4</th>\n",
       "      <td>404183</td>\n",
       "      <td>2019-01-01</td>\n",
       "      <td>1239.52</td>\n",
       "      <td>1</td>\n",
       "    </tr>\n",
       "    <tr>\n",
       "      <th>...</th>\n",
       "      <td>...</td>\n",
       "      <td>...</td>\n",
       "      <td>...</td>\n",
       "      <td>...</td>\n",
       "    </tr>\n",
       "    <tr>\n",
       "      <th>2728244</th>\n",
       "      <td>1624841</td>\n",
       "      <td>2019-08-08</td>\n",
       "      <td>1467.05</td>\n",
       "      <td>1</td>\n",
       "    </tr>\n",
       "    <tr>\n",
       "      <th>2728245</th>\n",
       "      <td>1624848</td>\n",
       "      <td>2019-08-08</td>\n",
       "      <td>1189.15</td>\n",
       "      <td>0</td>\n",
       "    </tr>\n",
       "    <tr>\n",
       "      <th>2728246</th>\n",
       "      <td>1624871</td>\n",
       "      <td>2019-08-08</td>\n",
       "      <td>427.72</td>\n",
       "      <td>1</td>\n",
       "    </tr>\n",
       "    <tr>\n",
       "      <th>2728247</th>\n",
       "      <td>1624878</td>\n",
       "      <td>2019-08-08</td>\n",
       "      <td>281.14</td>\n",
       "      <td>0</td>\n",
       "    </tr>\n",
       "    <tr>\n",
       "      <th>2728248</th>\n",
       "      <td>1624884</td>\n",
       "      <td>2019-08-08</td>\n",
       "      <td>313.00</td>\n",
       "      <td>0</td>\n",
       "    </tr>\n",
       "  </tbody>\n",
       "</table>\n",
       "<p>2728249 rows × 4 columns</p>\n",
       "</div>"
      ],
      "text/plain": [
       "         ID_CONTA DT_VENCIMENTO  VL_FATURA  DS_ROLAGEM_FX1\n",
       "0          402467    2019-01-01     210.00               0\n",
       "1          403001    2019-01-01    1097.18               1\n",
       "2          403499    2019-01-01    1209.88               0\n",
       "3          403670    2019-01-01     667.40               0\n",
       "4          404183    2019-01-01    1239.52               1\n",
       "...           ...           ...        ...             ...\n",
       "2728244   1624841    2019-08-08    1467.05               1\n",
       "2728245   1624848    2019-08-08    1189.15               0\n",
       "2728246   1624871    2019-08-08     427.72               1\n",
       "2728247   1624878    2019-08-08     281.14               0\n",
       "2728248   1624884    2019-08-08     313.00               0\n",
       "\n",
       "[2728249 rows x 4 columns]"
      ]
     },
     "execution_count": 11,
     "metadata": {},
     "output_type": "execute_result"
    }
   ],
   "source": [
    "df"
   ]
  },
  {
   "cell_type": "markdown",
   "id": "062e0c03",
   "metadata": {},
   "source": [
    "1.1 – Qual o percentual de faturas emitidas por mês no qual os clientes não pagaram a fatura anterior?"
   ]
  },
  {
   "cell_type": "code",
   "execution_count": null,
   "id": "26e84511",
   "metadata": {},
   "outputs": [],
   "source": []
  }
 ],
 "metadata": {
  "kernelspec": {
   "display_name": "Python 3 (ipykernel)",
   "language": "python",
   "name": "python3"
  },
  "language_info": {
   "codemirror_mode": {
    "name": "ipython",
    "version": 3
   },
   "file_extension": ".py",
   "mimetype": "text/x-python",
   "name": "python",
   "nbconvert_exporter": "python",
   "pygments_lexer": "ipython3",
   "version": "3.9.7"
  }
 },
 "nbformat": 4,
 "nbformat_minor": 5
}
