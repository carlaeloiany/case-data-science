{
 "cells": [
  {
   "cell_type": "code",
   "execution_count": 71,
   "id": "d2826bf7",
   "metadata": {},
   "outputs": [
    {
     "name": "stdout",
     "output_type": "stream",
     "text": [
      "Requirement already satisfied: haversine in c:\\users\\lucia\\anaconda3\\lib\\site-packages (2.5.1)\n",
      "Note: you may need to restart the kernel to use updated packages.\n"
     ]
    }
   ],
   "source": [
    "pip install haversine"
   ]
  },
  {
   "cell_type": "code",
   "execution_count": 72,
   "id": "9030c007",
   "metadata": {},
   "outputs": [
    {
     "name": "stdout",
     "output_type": "stream",
     "text": [
      "Requirement already satisfied: folium in c:\\users\\lucia\\anaconda3\\lib\\site-packages (0.12.1.post1)\n",
      "Requirement already satisfied: jinja2>=2.9 in c:\\users\\lucia\\anaconda3\\lib\\site-packages (from folium) (2.11.3)\n",
      "Requirement already satisfied: requests in c:\\users\\lucia\\anaconda3\\lib\\site-packages (from folium) (2.26.0)\n",
      "Requirement already satisfied: numpy in c:\\users\\lucia\\anaconda3\\lib\\site-packages (from folium) (1.20.3)\n",
      "Requirement already satisfied: branca>=0.3.0 in c:\\users\\lucia\\anaconda3\\lib\\site-packages (from folium) (0.5.0)\n",
      "Requirement already satisfied: MarkupSafe>=0.23 in c:\\users\\lucia\\anaconda3\\lib\\site-packages (from jinja2>=2.9->folium) (1.1.1)\n",
      "Requirement already satisfied: charset-normalizer~=2.0.0 in c:\\users\\lucia\\anaconda3\\lib\\site-packages (from requests->folium) (2.0.4)\n",
      "Requirement already satisfied: certifi>=2017.4.17 in c:\\users\\lucia\\anaconda3\\lib\\site-packages (from requests->folium) (2021.10.8)\n",
      "Requirement already satisfied: idna<4,>=2.5 in c:\\users\\lucia\\anaconda3\\lib\\site-packages (from requests->folium) (3.2)\n",
      "Requirement already satisfied: urllib3<1.27,>=1.21.1 in c:\\users\\lucia\\anaconda3\\lib\\site-packages (from requests->folium) (1.26.7)\n"
     ]
    }
   ],
   "source": [
    "!pip install folium"
   ]
  },
  {
   "cell_type": "code",
   "execution_count": 214,
   "id": "024cc374",
   "metadata": {},
   "outputs": [],
   "source": [
    "#Importando as bibliotecas\n",
    "\n",
    "import numpy as np\n",
    "import pandas as pd\n",
    "import matplotlib.pyplot as plt\n",
    "import seaborn as sb\n",
    "%matplotlib inline\n",
    "\n",
    "from haversine import haversine\n",
    "\n",
    "import folium\n",
    "from folium.plugins import MarkerCluster\n",
    "from folium.plugins import HeatMap\n",
    "\n",
    "from sklearn.model_selection import train_test_split\n",
    "from sklearn.ensemble import RandomForestRegressor\n",
    "from sklearn.datasets import make_regression\n",
    "from sklearn import linear_model\n",
    "from sklearn.metrics import mean_squared_error\n",
    "from sklearn.metrics import r2_score\n",
    "from sklearn.cluster import KMeans\n",
    "from sklearn.decomposition import PCA\n",
    "from scipy.spatial.distance import cdist, pdist\n",
    "from sklearn.metrics import silhouette_score\n",
    "import warnings"
   ]
  },
  {
   "cell_type": "markdown",
   "id": "b4645bb1",
   "metadata": {},
   "source": [
    "## Banco de dados"
   ]
  },
  {
   "cell_type": "code",
   "execution_count": 188,
   "id": "3ddae1ff",
   "metadata": {},
   "outputs": [],
   "source": [
    "#Importando o banco de dados\n",
    "data1 = pd.read_csv('Questão 2 - Base 1.txt', delim_whitespace = True)\n",
    "data2 = pd.read_csv('Questão 2 - Base 2.txt', delim_whitespace = True)\n",
    "data3 = pd.read_csv('Questão 2 - Base 3.txt', delim_whitespace = True)\n",
    "data4 = pd.read_csv('Questão 2 - Base 4.txt', delim_whitespace = True)\n",
    "data5 = pd.read_csv('Questão 2 - Base 5.txt', delim_whitespace = True)"
   ]
  },
  {
   "cell_type": "code",
   "execution_count": 180,
   "id": "d98b06fe",
   "metadata": {},
   "outputs": [],
   "source": [
    "df = data1.merge(data2)"
   ]
  },
  {
   "cell_type": "code",
   "execution_count": 183,
   "id": "a786c8a5",
   "metadata": {},
   "outputs": [],
   "source": [
    "df = df.merge(data3)"
   ]
  },
  {
   "cell_type": "code",
   "execution_count": 193,
   "id": "87358b4b",
   "metadata": {},
   "outputs": [],
   "source": [
    "df = df[['NU_DIAS_ATRASO', 'VALOR_CRELIQ', 'DIVIDA_ATUAL', 'RESPOSTA', 'LIMITE', 'QTD_PARCELAMENTO_12M']]"
   ]
  },
  {
   "cell_type": "code",
   "execution_count": 196,
   "id": "d926ef52",
   "metadata": {},
   "outputs": [
    {
     "name": "stdout",
     "output_type": "stream",
     "text": [
      "<class 'pandas.core.frame.DataFrame'>\n",
      "Int64Index: 72539 entries, 0 to 72538\n",
      "Data columns (total 6 columns):\n",
      " #   Column                Non-Null Count  Dtype  \n",
      "---  ------                --------------  -----  \n",
      " 0   NU_DIAS_ATRASO        72539 non-null  int64  \n",
      " 1   VALOR_CRELIQ          72539 non-null  float64\n",
      " 2   DIVIDA_ATUAL          72539 non-null  float64\n",
      " 3   RESPOSTA              72539 non-null  int64  \n",
      " 4   LIMITE                72539 non-null  float64\n",
      " 5   QTD_PARCELAMENTO_12M  72539 non-null  int64  \n",
      "dtypes: float64(3), int64(3)\n",
      "memory usage: 3.9 MB\n"
     ]
    }
   ],
   "source": [
    "df.info()"
   ]
  },
  {
   "cell_type": "code",
   "execution_count": 194,
   "id": "69be5c61",
   "metadata": {},
   "outputs": [],
   "source": [
    "dataset = df.values"
   ]
  },
  {
   "cell_type": "markdown",
   "id": "51c992f2",
   "metadata": {},
   "source": [
    "## Pré - Processamento"
   ]
  },
  {
   "cell_type": "markdown",
   "id": "4e9291e3",
   "metadata": {},
   "source": [
    "Objetivando o aumento da adesão dos acordos, decidiu-se fazer um agrupamente de clientes, esse agrupamento, ou Clusterização, é feito por meio do algoritmo Kmeans que é conhecida como aprendizagem Não-Supervisionada.\n",
    "O modelo K-Means é um método de segregar em torno de centros (centroides) diversos dados, criando o que chamamos de clustering, que gera o efeito de particionar 'n' observações dentre 'k' grupos onde cada observação pertence ao grupo mais próximo da média."
   ]
  },
  {
   "cell_type": "code",
   "execution_count": 200,
   "id": "ae605776",
   "metadata": {},
   "outputs": [],
   "source": [
    "df, amostra2 = train_test_split(dataset, train_size=.2)"
   ]
  },
  {
   "cell_type": "code",
   "execution_count": 201,
   "id": "566f2bc3",
   "metadata": {},
   "outputs": [
    {
     "data": {
      "text/plain": [
       "(14507, 6)"
      ]
     },
     "execution_count": 201,
     "metadata": {},
     "output_type": "execute_result"
    }
   ],
   "source": [
    "df.shape"
   ]
  },
  {
   "cell_type": "markdown",
   "id": "576a74d4",
   "metadata": {},
   "source": [
    "## Máquina Preditiva"
   ]
  },
  {
   "cell_type": "code",
   "execution_count": 202,
   "id": "16ea1106",
   "metadata": {},
   "outputs": [],
   "source": [
    "#Aplica a redução de dimensionalidade no array das variáveis\n",
    "pca = PCA(n_components=2).fit_transform(df)"
   ]
  },
  {
   "cell_type": "code",
   "execution_count": 208,
   "id": "c1822cb0",
   "metadata": {},
   "outputs": [
    {
     "data": {
      "text/plain": [
       "range(1, 6)"
      ]
     },
     "execution_count": 208,
     "metadata": {},
     "output_type": "execute_result"
    }
   ],
   "source": [
    "#Determinando um range do Hyperparâmetro 'k' do KMeans\n",
    "k_range = range(1,6)\n",
    "k_range"
   ]
  },
  {
   "cell_type": "code",
   "execution_count": 209,
   "id": "9ee976dc",
   "metadata": {},
   "outputs": [],
   "source": [
    "#Aplicando o modelo K-Means para cada valor de k\n",
    "k_means_var = [KMeans(n_clusters=k).fit(pca) for k in k_range]"
   ]
  },
  {
   "cell_type": "code",
   "execution_count": 210,
   "id": "8ade565d",
   "metadata": {},
   "outputs": [
    {
     "data": {
      "text/plain": [
       "Text(0.5, 1.0, 'Variância explicada para cada valor de K')"
      ]
     },
     "execution_count": 210,
     "metadata": {},
     "output_type": "execute_result"
    },
    {
     "data": {
      "image/png": "[encoded data removed]",
      "text/plain": [
       "<Figure size 432x288 with 1 Axes>"
      ]
     },
     "metadata": {
      "needs_background": "light"
     },
     "output_type": "display_data"
    }
   ],
   "source": [
    "#Curva de Elbow\n",
    "##Ajustando o centroide do cluster para cada modelo\n",
    "centroids = [X.cluster_centers_ for X in k_means_var]\n",
    "\n",
    "##Calculando a distância euclidiana de cada ponto de dado para o centróide\n",
    "k_euclid = [cdist(pca,cent, 'euclidean') for cent in centroids]\n",
    "dist = [np.min(ke, axis = 1) for ke in k_euclid]\n",
    "\n",
    "##Soma dos quadrados da distância dentro do Cluster\n",
    "soma_quadrados_intra_cluster = [sum(d**2) for d in dist]\n",
    "\n",
    "##Soma total dos quadrados\n",
    "soma_total = sum(pdist(pca)**2)/pca.shape[0]\n",
    "\n",
    "##Soma dos quadrados entre os clusters\n",
    "soma_quadrados_inter_cluster = soma_total - soma_quadrados_intra_cluster\n",
    "\n",
    "##Curva de Elbow\n",
    "fig = plt.figure()\n",
    "ax = fig.add_subplot(111)\n",
    "ax.plot(k_range, soma_quadrados_inter_cluster/soma_total *100, 'b*-')\n",
    "plt.grid(True)\n",
    "plt.xlabel('Nº de Clusters')\n",
    "plt.ylabel('% de variância explicada')\n",
    "plt.title('Variância explicada para cada valor de K')"
   ]
  },
  {
   "cell_type": "markdown",
   "id": "3b9ef05a",
   "metadata": {},
   "source": [
    "Observa- se na figura acima que para 3 clusters conseguimos explicar mais de 70% da variaância, para 4 clusters aproximadamente 80% e 5 clusters um pouco mais de 80%. As porcentagens são bem próximas, mas como para k=4 e k=5 as porcentagens são muito parecidas, partiremos do pressuposto que o modelo com 4 clusters é o melhor."
   ]
  },
  {
   "cell_type": "code",
   "execution_count": 212,
   "id": "6380a5ef",
   "metadata": {},
   "outputs": [
    {
     "data": {
      "text/plain": [
       "KMeans(n_clusters=4)"
      ]
     },
     "execution_count": 212,
     "metadata": {},
     "output_type": "execute_result"
    }
   ],
   "source": [
    "#Criar Modelo com k = 4\n",
    "modelo_v1 = KMeans(n_clusters= 4)\n",
    "modelo_v1.fit(pca)"
   ]
  },
  {
   "cell_type": "code",
   "execution_count": null,
   "id": "f5f94d5d",
   "metadata": {},
   "outputs": [],
   "source": [
    "#Obtem os valores (Ocorre um erro inesperado de memory ao tentar plotar)\n",
    "#x_min, x_max = pca[:,0].min() - 5, pca[:,0].max() - 1\n",
    "#y_min, y_max = pca[:,1].min() + 1, pca[:,1].max() + 5\n",
    "#xx, yy = np.meshgrid(np.arange(x_min, x_max, .02), np.arange(y_min, y_max, .02))\n",
    "#Z = modelo_v1.predict(np.c_[xx.ravel(), yy.ravel()])\n",
    "#Z = Z.reshape(xx.shape)"
   ]
  },
  {
   "cell_type": "markdown",
   "id": "fcb18d35",
   "metadata": {},
   "source": [
    "## Avaliação da Máquina Preditiva"
   ]
  },
  {
   "cell_type": "code",
   "execution_count": 217,
   "id": "82cf9af7",
   "metadata": {},
   "outputs": [
    {
     "data": {
      "text/plain": [
       "0.5295795972308456"
      ]
     },
     "execution_count": 217,
     "metadata": {},
     "output_type": "execute_result"
    }
   ],
   "source": [
    "#Métrica de Avaliação para clusterização\n",
    "#Avaliando a máquina preditiva com k=4\n",
    "labels = modelo_v1.labels_\n",
    "\n",
    "silhouette_score(pca,labels, metric='euclidean')"
   ]
  },
  {
   "cell_type": "code",
   "execution_count": 223,
   "id": "e2be3f64",
   "metadata": {},
   "outputs": [
    {
     "data": {
      "text/plain": [
       "KMeans(n_clusters=3)"
      ]
     },
     "execution_count": 223,
     "metadata": {},
     "output_type": "execute_result"
    }
   ],
   "source": [
    "#Criar Modelo com k = 3\n",
    "modelo_v2 = KMeans(n_clusters= 3)\n",
    "modelo_v2.fit(pca)"
   ]
  },
  {
   "cell_type": "code",
   "execution_count": 224,
   "id": "66949131",
   "metadata": {},
   "outputs": [
    {
     "data": {
      "text/plain": [
       "0.5733368465386303"
      ]
     },
     "execution_count": 224,
     "metadata": {},
     "output_type": "execute_result"
    }
   ],
   "source": [
    "#Métrica de Avaliação para clusterização\n",
    "#Avaliando a máquina preditiva com k=3\n",
    "labels = modelo_v2.labels_\n",
    "\n",
    "silhouette_score(pca,labels, metric='euclidean')"
   ]
  },
  {
   "cell_type": "markdown",
   "id": "ecc3d16c",
   "metadata": {},
   "source": [
    "O coeficiente de Silhouette quando próximo de +1, indica que os pontos estão muito longe dos pontos do outro cluster, e quando próximo de 0, indica que os pontos então muito perto ou até interseccionando um outro cluster. Para k=4 temos 0,53 e para k=3 temos 0,57. Como a curva de Elbow nos mostra que a explicação da variância deles são parecidas, optaremos por escolher o modelo com k=3."
   ]
  },
  {
   "cell_type": "markdown",
   "id": "c4a6c36e",
   "metadata": {},
   "source": [
    "## Usando a marcação dos clusters na Máquina Preditiva Final"
   ]
  },
  {
   "cell_type": "code",
   "execution_count": 225,
   "id": "b1ee8466",
   "metadata": {},
   "outputs": [],
   "source": [
    "#Lista com o nome das colunas\n",
    "names = ['NU_DIAS_ATRASO','VALOR_CRELIQ','DIVIDA_ATUAL','RESPOSTA','LIMITE', 'QTD_PARCELAMENTO_12M']"
   ]
  },
  {
   "cell_type": "code",
   "execution_count": 226,
   "id": "a1e72369",
   "metadata": {},
   "outputs": [],
   "source": [
    "cluster_map = pd.DataFrame(df, columns=names)\n",
    "cluster_map['cluster'] = modelo_v2.labels_"
   ]
  },
  {
   "cell_type": "code",
   "execution_count": 227,
   "id": "b9a1d9d9",
   "metadata": {},
   "outputs": [
    {
     "data": {
      "text/html": [
       "<div>\n",
       "<style scoped>\n",
       "    .dataframe tbody tr th:only-of-type {\n",
       "        vertical-align: middle;\n",
       "    }\n",
       "\n",
       "    .dataframe tbody tr th {\n",
       "        vertical-align: top;\n",
       "    }\n",
       "\n",
       "    .dataframe thead th {\n",
       "        text-align: right;\n",
       "    }\n",
       "</style>\n",
       "<table border=\"1\" class=\"dataframe\">\n",
       "  <thead>\n",
       "    <tr style=\"text-align: right;\">\n",
       "      <th></th>\n",
       "      <th>NU_DIAS_ATRASO</th>\n",
       "      <th>VALOR_CRELIQ</th>\n",
       "      <th>DIVIDA_ATUAL</th>\n",
       "      <th>RESPOSTA</th>\n",
       "      <th>LIMITE</th>\n",
       "      <th>QTD_PARCELAMENTO_12M</th>\n",
       "      <th>cluster</th>\n",
       "    </tr>\n",
       "  </thead>\n",
       "  <tbody>\n",
       "    <tr>\n",
       "      <th>0</th>\n",
       "      <td>436.0</td>\n",
       "      <td>3974.91</td>\n",
       "      <td>8527.74</td>\n",
       "      <td>0.0</td>\n",
       "      <td>3308.0</td>\n",
       "      <td>0.0</td>\n",
       "      <td>0</td>\n",
       "    </tr>\n",
       "    <tr>\n",
       "      <th>1</th>\n",
       "      <td>419.0</td>\n",
       "      <td>1085.47</td>\n",
       "      <td>2301.79</td>\n",
       "      <td>0.0</td>\n",
       "      <td>688.0</td>\n",
       "      <td>0.0</td>\n",
       "      <td>2</td>\n",
       "    </tr>\n",
       "    <tr>\n",
       "      <th>2</th>\n",
       "      <td>215.0</td>\n",
       "      <td>1193.34</td>\n",
       "      <td>1699.36</td>\n",
       "      <td>0.0</td>\n",
       "      <td>560.0</td>\n",
       "      <td>0.0</td>\n",
       "      <td>2</td>\n",
       "    </tr>\n",
       "    <tr>\n",
       "      <th>3</th>\n",
       "      <td>527.0</td>\n",
       "      <td>861.60</td>\n",
       "      <td>2210.11</td>\n",
       "      <td>0.0</td>\n",
       "      <td>281.0</td>\n",
       "      <td>0.0</td>\n",
       "      <td>2</td>\n",
       "    </tr>\n",
       "    <tr>\n",
       "      <th>4</th>\n",
       "      <td>257.0</td>\n",
       "      <td>277.61</td>\n",
       "      <td>425.61</td>\n",
       "      <td>0.0</td>\n",
       "      <td>225.0</td>\n",
       "      <td>2.0</td>\n",
       "      <td>2</td>\n",
       "    </tr>\n",
       "    <tr>\n",
       "      <th>...</th>\n",
       "      <td>...</td>\n",
       "      <td>...</td>\n",
       "      <td>...</td>\n",
       "      <td>...</td>\n",
       "      <td>...</td>\n",
       "      <td>...</td>\n",
       "      <td>...</td>\n",
       "    </tr>\n",
       "    <tr>\n",
       "      <th>14502</th>\n",
       "      <td>257.0</td>\n",
       "      <td>1089.52</td>\n",
       "      <td>1670.36</td>\n",
       "      <td>0.0</td>\n",
       "      <td>919.0</td>\n",
       "      <td>0.0</td>\n",
       "      <td>2</td>\n",
       "    </tr>\n",
       "    <tr>\n",
       "      <th>14503</th>\n",
       "      <td>311.0</td>\n",
       "      <td>294.76</td>\n",
       "      <td>501.88</td>\n",
       "      <td>0.0</td>\n",
       "      <td>225.0</td>\n",
       "      <td>0.0</td>\n",
       "      <td>2</td>\n",
       "    </tr>\n",
       "    <tr>\n",
       "      <th>14504</th>\n",
       "      <td>384.0</td>\n",
       "      <td>3288.10</td>\n",
       "      <td>6514.29</td>\n",
       "      <td>0.0</td>\n",
       "      <td>2188.0</td>\n",
       "      <td>0.0</td>\n",
       "      <td>1</td>\n",
       "    </tr>\n",
       "    <tr>\n",
       "      <th>14505</th>\n",
       "      <td>195.0</td>\n",
       "      <td>1032.12</td>\n",
       "      <td>1416.53</td>\n",
       "      <td>0.0</td>\n",
       "      <td>1461.0</td>\n",
       "      <td>1.0</td>\n",
       "      <td>2</td>\n",
       "    </tr>\n",
       "    <tr>\n",
       "      <th>14506</th>\n",
       "      <td>452.0</td>\n",
       "      <td>858.99</td>\n",
       "      <td>1901.03</td>\n",
       "      <td>0.0</td>\n",
       "      <td>1052.0</td>\n",
       "      <td>1.0</td>\n",
       "      <td>2</td>\n",
       "    </tr>\n",
       "  </tbody>\n",
       "</table>\n",
       "<p>14507 rows × 7 columns</p>\n",
       "</div>"
      ],
      "text/plain": [
       "       NU_DIAS_ATRASO  VALOR_CRELIQ  DIVIDA_ATUAL  RESPOSTA  LIMITE  \\\n",
       "0               436.0       3974.91       8527.74       0.0  3308.0   \n",
       "1               419.0       1085.47       2301.79       0.0   688.0   \n",
       "2               215.0       1193.34       1699.36       0.0   560.0   \n",
       "3               527.0        861.60       2210.11       0.0   281.0   \n",
       "4               257.0        277.61        425.61       0.0   225.0   \n",
       "...               ...           ...           ...       ...     ...   \n",
       "14502           257.0       1089.52       1670.36       0.0   919.0   \n",
       "14503           311.0        294.76        501.88       0.0   225.0   \n",
       "14504           384.0       3288.10       6514.29       0.0  2188.0   \n",
       "14505           195.0       1032.12       1416.53       0.0  1461.0   \n",
       "14506           452.0        858.99       1901.03       0.0  1052.0   \n",
       "\n",
       "       QTD_PARCELAMENTO_12M  cluster  \n",
       "0                       0.0        0  \n",
       "1                       0.0        2  \n",
       "2                       0.0        2  \n",
       "3                       0.0        2  \n",
       "4                       2.0        2  \n",
       "...                     ...      ...  \n",
       "14502                   0.0        2  \n",
       "14503                   0.0        2  \n",
       "14504                   0.0        1  \n",
       "14505                   1.0        2  \n",
       "14506                   1.0        2  \n",
       "\n",
       "[14507 rows x 7 columns]"
      ]
     },
     "execution_count": 227,
     "metadata": {},
     "output_type": "execute_result"
    }
   ],
   "source": [
    "cluster_map"
   ]
  },
  {
   "cell_type": "code",
   "execution_count": 228,
   "id": "4f876124",
   "metadata": {},
   "outputs": [
    {
     "data": {
      "text/plain": [
       "cluster\n",
       "0    390.699104\n",
       "1    368.959820\n",
       "2    301.207637\n",
       "Name: NU_DIAS_ATRASO, dtype: float64"
      ]
     },
     "execution_count": 228,
     "metadata": {},
     "output_type": "execute_result"
    }
   ],
   "source": [
    "#Média do número de atrasos por cluster\n",
    "cluster_map.groupby('cluster')['NU_DIAS_ATRASO'].mean()"
   ]
  },
  {
   "cell_type": "code",
   "execution_count": 229,
   "id": "e8e125e8",
   "metadata": {},
   "outputs": [
    {
     "data": {
      "text/plain": [
       "cluster\n",
       "0    3654.989757\n",
       "1    1727.645567\n",
       "2     740.138712\n",
       "Name: LIMITE, dtype: float64"
      ]
     },
     "execution_count": 229,
     "metadata": {},
     "output_type": "execute_result"
    }
   ],
   "source": [
    "#Limite médio por cluster\n",
    "cluster_map.groupby('cluster')['LIMITE'].mean()"
   ]
  },
  {
   "cell_type": "code",
   "execution_count": 233,
   "id": "55a7b1ee",
   "metadata": {},
   "outputs": [
    {
     "data": {
      "text/html": [
       "<div>\n",
       "<style scoped>\n",
       "    .dataframe tbody tr th:only-of-type {\n",
       "        vertical-align: middle;\n",
       "    }\n",
       "\n",
       "    .dataframe tbody tr th {\n",
       "        vertical-align: top;\n",
       "    }\n",
       "\n",
       "    .dataframe thead th {\n",
       "        text-align: right;\n",
       "    }\n",
       "</style>\n",
       "<table border=\"1\" class=\"dataframe\">\n",
       "  <thead>\n",
       "    <tr style=\"text-align: right;\">\n",
       "      <th>RESPOSTA</th>\n",
       "      <th>0.0</th>\n",
       "      <th>1.0</th>\n",
       "      <th>All</th>\n",
       "    </tr>\n",
       "    <tr>\n",
       "      <th>cluster</th>\n",
       "      <th></th>\n",
       "      <th></th>\n",
       "      <th></th>\n",
       "    </tr>\n",
       "  </thead>\n",
       "  <tbody>\n",
       "    <tr>\n",
       "      <th>0</th>\n",
       "      <td>770</td>\n",
       "      <td>11</td>\n",
       "      <td>781</td>\n",
       "    </tr>\n",
       "    <tr>\n",
       "      <th>1</th>\n",
       "      <td>4369</td>\n",
       "      <td>86</td>\n",
       "      <td>4455</td>\n",
       "    </tr>\n",
       "    <tr>\n",
       "      <th>2</th>\n",
       "      <td>8956</td>\n",
       "      <td>315</td>\n",
       "      <td>9271</td>\n",
       "    </tr>\n",
       "    <tr>\n",
       "      <th>All</th>\n",
       "      <td>14095</td>\n",
       "      <td>412</td>\n",
       "      <td>14507</td>\n",
       "    </tr>\n",
       "  </tbody>\n",
       "</table>\n",
       "</div>"
      ],
      "text/plain": [
       "RESPOSTA    0.0  1.0    All\n",
       "cluster                    \n",
       "0           770   11    781\n",
       "1          4369   86   4455\n",
       "2          8956  315   9271\n",
       "All       14095  412  14507"
      ]
     },
     "execution_count": 233,
     "metadata": {},
     "output_type": "execute_result"
    }
   ],
   "source": [
    "pd.crosstab(cluster_map['cluster'], cluster_map['RESPOSTA'], margins=True)"
   ]
  },
  {
   "cell_type": "markdown",
   "id": "4c3f4993",
   "metadata": {},
   "source": [
    "A partir do modelo vai ser possível fazer estudos para efetivar esse aumento na adesão dos acordos. Por exemplo, os clientes do cluster 2, que são a maioria, normalmente não aderem aos acordos. A partir disso buscar os motivos que o levam a não aderir.\n",
    "- Esse cliente já está com muitos dias de atraso e prefere deixar como está?\n",
    "- O valor da dívida com juros está muito alto?"
   ]
  },
  {
   "cell_type": "code",
   "execution_count": 230,
   "id": "bf1cac13",
   "metadata": {},
   "outputs": [],
   "source": [
    "#Salva o banco criado em xlsx\n",
    "file_name = 'ModeloK-Means.xlsx'\n",
    "  \n",
    "# saving the excel\n",
    "cluster_map.to_excel(file_name)"
   ]
  }
 ],
 "metadata": {
  "kernelspec": {
   "display_name": "Python 3 (ipykernel)",
   "language": "python",
   "name": "python3"
  },
  "language_info": {
   "codemirror_mode": {
    "name": "ipython",
    "version": 3
   },
   "file_extension": ".py",
   "mimetype": "text/x-python",
   "name": "python",
   "nbconvert_exporter": "python",
   "pygments_lexer": "ipython3",
   "version": "3.9.7"
  }
 },
 "nbformat": 4,
 "nbformat_minor": 5
}
